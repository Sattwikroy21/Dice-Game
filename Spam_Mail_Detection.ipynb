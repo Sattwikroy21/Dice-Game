{
  "nbformat": 4,
  "nbformat_minor": 0,
  "metadata": {
    "colab": {
      "provenance": [],
      "authorship_tag": "ABX9TyMDaQmSlnaRL62z6y1wuUi8",
      "include_colab_link": true
    },
    "kernelspec": {
      "name": "python3",
      "display_name": "Python 3"
    },
    "language_info": {
      "name": "python"
    }
  },
  "cells": [
    {
      "cell_type": "markdown",
      "metadata": {
        "id": "view-in-github",
        "colab_type": "text"
      },
      "source": [
        "<a href=\"https://colab.research.google.com/github/Sattwikroy21/Dice-Game/blob/main/Spam_Mail_Detection.ipynb\" target=\"_parent\"><img src=\"https://colab.research.google.com/assets/colab-badge.svg\" alt=\"Open In Colab\"/></a>"
      ]
    },
    {
      "cell_type": "markdown",
      "source": [
        "# **Machine Learning Project**\n",
        "# **\"SPAM Mail Detection\"**\n",
        "**Project Incharge:** Prof. M. K. BEURIA\n",
        "\n",
        "2106247 - SATTWIK ROY\n",
        "\n",
        "**Section**: ML-IT01\n",
        "\n",
        "*-- School Of Computer Science and  Engineering, KIIT-DU --*\n",
        "\n",
        "\n",
        "\n"
      ],
      "metadata": {
        "id": "Fgz_Ie6g-rd-"
      }
    },
    {
      "cell_type": "markdown",
      "source": [
        "# **Introduction**\n",
        "\n",
        "*For users' inboxes to be free of unwanted or potentially hazardous information, the ability to recognize spam e-mails is essential.\n",
        "Spam e-mail detection is critical for protecting customers from unsolicited and potentially harmful information that can clog their inboxes and compromise their security. Mails are Categorized as 'Spam' or 'Ham' in the dataset. By performing analysis and applying machine learning algorithms for building the predictive system, the model will predict the upcoming mail as spam or ham according to the research on the data.*\n",
        "\n",
        "*Various machine learning classification algorithms are used, out of which the Multi-Layer Perceptron (MLP) gives the most accurate results and prediction over the data with about 98% accuracy.* [1]\n",
        "\n"
      ],
      "metadata": {
        "id": "jAZoDDv7GQP-"
      }
    },
    {
      "cell_type": "markdown",
      "source": [
        "---------------------------------------------------------------------------\n",
        "# Importing Required Libraries"
      ],
      "metadata": {
        "id": "z50793DAvI_w"
      }
    },
    {
      "cell_type": "code",
      "execution_count": null,
      "metadata": {
        "id": "1008n7AOmod9"
      },
      "outputs": [],
      "source": [
        "import numpy as np\n",
        "import pandas as pd\n",
        "import xgboost as xgb\n",
        "from sklearn.model_selection import train_test_split\n",
        "from sklearn.feature_extraction.text import TfidfVectorizer\n",
        "from sklearn.linear_model import LogisticRegression\n",
        "from sklearn.neighbors import KNeighborsClassifier\n",
        "from sklearn.svm import SVC\n",
        "from sklearn.tree import DecisionTreeClassifier\n",
        "from sklearn.neural_network import MLPClassifier\n",
        "from sklearn.ensemble import GradientBoostingClassifier, RandomForestClassifier, AdaBoostClassifier, BaggingClassifier, StackingClassifier\n",
        "from sklearn.metrics import accuracy_score, classification_report"
      ]
    },
    {
      "cell_type": "markdown",
      "source": [
        "# Read the mail dataset into pandas frame\n",
        "\n"
      ],
      "metadata": {
        "id": "HLJqDagSvR_g"
      }
    },
    {
      "cell_type": "code",
      "source": [
        "raw_mail_data = pd.read_csv(\"/content/mail_data.csv\")\n",
        "print(raw_mail_data)"
      ],
      "metadata": {
        "colab": {
          "base_uri": "https://localhost:8080/"
        },
        "id": "cHkaghDttSl4",
        "outputId": "943bd7c1-015e-4f2c-bca7-d51fcdb3f392"
      },
      "execution_count": null,
      "outputs": [
        {
          "output_type": "stream",
          "name": "stdout",
          "text": [
            "     Category                                            Message\n",
            "0         ham  Go until jurong point, crazy.. Available only ...\n",
            "1         ham                      Ok lar... Joking wif u oni...\n",
            "2        spam  Free entry in 2 a wkly comp to win FA Cup fina...\n",
            "3         ham  U dun say so early hor... U c already then say...\n",
            "4         ham  Nah I don't think he goes to usf, he lives aro...\n",
            "...       ...                                                ...\n",
            "5567     spam  This is the 2nd time we have tried 2 contact u...\n",
            "5568      ham               Will ü b going to esplanade fr home?\n",
            "5569      ham  Pity, * was in mood for that. So...any other s...\n",
            "5570      ham  The guy did some bitching but I acted like i'd...\n",
            "5571      ham                         Rofl. Its true to its name\n",
            "\n",
            "[5572 rows x 2 columns]\n"
          ]
        }
      ]
    },
    {
      "cell_type": "markdown",
      "source": [
        "# Data Pre-processing"
      ],
      "metadata": {
        "id": "PGBfAjq6v28r"
      }
    },
    {
      "cell_type": "code",
      "source": [
        "#Replacing missing value with NULL string\n",
        "mail_data = raw_mail_data.where((pd.notnull(raw_mail_data)),'')\n",
        "#print first 5 rows of the data\n",
        "mail_data.head()"
      ],
      "metadata": {
        "colab": {
          "base_uri": "https://localhost:8080/",
          "height": 206
        },
        "id": "H36jw6kzvt4T",
        "outputId": "aafc2fa7-909c-4b04-800f-b5106d4bd094"
      },
      "execution_count": null,
      "outputs": [
        {
          "output_type": "execute_result",
          "data": {
            "text/plain": [
              "  Category                                            Message\n",
              "0      ham  Go until jurong point, crazy.. Available only ...\n",
              "1      ham                      Ok lar... Joking wif u oni...\n",
              "2     spam  Free entry in 2 a wkly comp to win FA Cup fina...\n",
              "3      ham  U dun say so early hor... U c already then say...\n",
              "4      ham  Nah I don't think he goes to usf, he lives aro..."
            ],
            "text/html": [
              "\n",
              "  <div id=\"df-adc7c0f4-f911-49ae-8be7-83be275925f6\" class=\"colab-df-container\">\n",
              "    <div>\n",
              "<style scoped>\n",
              "    .dataframe tbody tr th:only-of-type {\n",
              "        vertical-align: middle;\n",
              "    }\n",
              "\n",
              "    .dataframe tbody tr th {\n",
              "        vertical-align: top;\n",
              "    }\n",
              "\n",
              "    .dataframe thead th {\n",
              "        text-align: right;\n",
              "    }\n",
              "</style>\n",
              "<table border=\"1\" class=\"dataframe\">\n",
              "  <thead>\n",
              "    <tr style=\"text-align: right;\">\n",
              "      <th></th>\n",
              "      <th>Category</th>\n",
              "      <th>Message</th>\n",
              "    </tr>\n",
              "  </thead>\n",
              "  <tbody>\n",
              "    <tr>\n",
              "      <th>0</th>\n",
              "      <td>ham</td>\n",
              "      <td>Go until jurong point, crazy.. Available only ...</td>\n",
              "    </tr>\n",
              "    <tr>\n",
              "      <th>1</th>\n",
              "      <td>ham</td>\n",
              "      <td>Ok lar... Joking wif u oni...</td>\n",
              "    </tr>\n",
              "    <tr>\n",
              "      <th>2</th>\n",
              "      <td>spam</td>\n",
              "      <td>Free entry in 2 a wkly comp to win FA Cup fina...</td>\n",
              "    </tr>\n",
              "    <tr>\n",
              "      <th>3</th>\n",
              "      <td>ham</td>\n",
              "      <td>U dun say so early hor... U c already then say...</td>\n",
              "    </tr>\n",
              "    <tr>\n",
              "      <th>4</th>\n",
              "      <td>ham</td>\n",
              "      <td>Nah I don't think he goes to usf, he lives aro...</td>\n",
              "    </tr>\n",
              "  </tbody>\n",
              "</table>\n",
              "</div>\n",
              "    <div class=\"colab-df-buttons\">\n",
              "\n",
              "  <div class=\"colab-df-container\">\n",
              "    <button class=\"colab-df-convert\" onclick=\"convertToInteractive('df-adc7c0f4-f911-49ae-8be7-83be275925f6')\"\n",
              "            title=\"Convert this dataframe to an interactive table.\"\n",
              "            style=\"display:none;\">\n",
              "\n",
              "  <svg xmlns=\"http://www.w3.org/2000/svg\" height=\"24px\" viewBox=\"0 -960 960 960\">\n",
              "    <path d=\"M120-120v-720h720v720H120Zm60-500h600v-160H180v160Zm220 220h160v-160H400v160Zm0 220h160v-160H400v160ZM180-400h160v-160H180v160Zm440 0h160v-160H620v160ZM180-180h160v-160H180v160Zm440 0h160v-160H620v160Z\"/>\n",
              "  </svg>\n",
              "    </button>\n",
              "\n",
              "  <style>\n",
              "    .colab-df-container {\n",
              "      display:flex;\n",
              "      gap: 12px;\n",
              "    }\n",
              "\n",
              "    .colab-df-convert {\n",
              "      background-color: #E8F0FE;\n",
              "      border: none;\n",
              "      border-radius: 50%;\n",
              "      cursor: pointer;\n",
              "      display: none;\n",
              "      fill: #1967D2;\n",
              "      height: 32px;\n",
              "      padding: 0 0 0 0;\n",
              "      width: 32px;\n",
              "    }\n",
              "\n",
              "    .colab-df-convert:hover {\n",
              "      background-color: #E2EBFA;\n",
              "      box-shadow: 0px 1px 2px rgba(60, 64, 67, 0.3), 0px 1px 3px 1px rgba(60, 64, 67, 0.15);\n",
              "      fill: #174EA6;\n",
              "    }\n",
              "\n",
              "    .colab-df-buttons div {\n",
              "      margin-bottom: 4px;\n",
              "    }\n",
              "\n",
              "    [theme=dark] .colab-df-convert {\n",
              "      background-color: #3B4455;\n",
              "      fill: #D2E3FC;\n",
              "    }\n",
              "\n",
              "    [theme=dark] .colab-df-convert:hover {\n",
              "      background-color: #434B5C;\n",
              "      box-shadow: 0px 1px 3px 1px rgba(0, 0, 0, 0.15);\n",
              "      filter: drop-shadow(0px 1px 2px rgba(0, 0, 0, 0.3));\n",
              "      fill: #FFFFFF;\n",
              "    }\n",
              "  </style>\n",
              "\n",
              "    <script>\n",
              "      const buttonEl =\n",
              "        document.querySelector('#df-adc7c0f4-f911-49ae-8be7-83be275925f6 button.colab-df-convert');\n",
              "      buttonEl.style.display =\n",
              "        google.colab.kernel.accessAllowed ? 'block' : 'none';\n",
              "\n",
              "      async function convertToInteractive(key) {\n",
              "        const element = document.querySelector('#df-adc7c0f4-f911-49ae-8be7-83be275925f6');\n",
              "        const dataTable =\n",
              "          await google.colab.kernel.invokeFunction('convertToInteractive',\n",
              "                                                    [key], {});\n",
              "        if (!dataTable) return;\n",
              "\n",
              "        const docLinkHtml = 'Like what you see? Visit the ' +\n",
              "          '<a target=\"_blank\" href=https://colab.research.google.com/notebooks/data_table.ipynb>data table notebook</a>'\n",
              "          + ' to learn more about interactive tables.';\n",
              "        element.innerHTML = '';\n",
              "        dataTable['output_type'] = 'display_data';\n",
              "        await google.colab.output.renderOutput(dataTable, element);\n",
              "        const docLink = document.createElement('div');\n",
              "        docLink.innerHTML = docLinkHtml;\n",
              "        element.appendChild(docLink);\n",
              "      }\n",
              "    </script>\n",
              "  </div>\n",
              "\n",
              "\n",
              "<div id=\"df-1c94278b-33cc-4d60-baff-24b4ef2936d0\">\n",
              "  <button class=\"colab-df-quickchart\" onclick=\"quickchart('df-1c94278b-33cc-4d60-baff-24b4ef2936d0')\"\n",
              "            title=\"Suggest charts\"\n",
              "            style=\"display:none;\">\n",
              "\n",
              "<svg xmlns=\"http://www.w3.org/2000/svg\" height=\"24px\"viewBox=\"0 0 24 24\"\n",
              "     width=\"24px\">\n",
              "    <g>\n",
              "        <path d=\"M19 3H5c-1.1 0-2 .9-2 2v14c0 1.1.9 2 2 2h14c1.1 0 2-.9 2-2V5c0-1.1-.9-2-2-2zM9 17H7v-7h2v7zm4 0h-2V7h2v10zm4 0h-2v-4h2v4z\"/>\n",
              "    </g>\n",
              "</svg>\n",
              "  </button>\n",
              "\n",
              "<style>\n",
              "  .colab-df-quickchart {\n",
              "      --bg-color: #E8F0FE;\n",
              "      --fill-color: #1967D2;\n",
              "      --hover-bg-color: #E2EBFA;\n",
              "      --hover-fill-color: #174EA6;\n",
              "      --disabled-fill-color: #AAA;\n",
              "      --disabled-bg-color: #DDD;\n",
              "  }\n",
              "\n",
              "  [theme=dark] .colab-df-quickchart {\n",
              "      --bg-color: #3B4455;\n",
              "      --fill-color: #D2E3FC;\n",
              "      --hover-bg-color: #434B5C;\n",
              "      --hover-fill-color: #FFFFFF;\n",
              "      --disabled-bg-color: #3B4455;\n",
              "      --disabled-fill-color: #666;\n",
              "  }\n",
              "\n",
              "  .colab-df-quickchart {\n",
              "    background-color: var(--bg-color);\n",
              "    border: none;\n",
              "    border-radius: 50%;\n",
              "    cursor: pointer;\n",
              "    display: none;\n",
              "    fill: var(--fill-color);\n",
              "    height: 32px;\n",
              "    padding: 0;\n",
              "    width: 32px;\n",
              "  }\n",
              "\n",
              "  .colab-df-quickchart:hover {\n",
              "    background-color: var(--hover-bg-color);\n",
              "    box-shadow: 0 1px 2px rgba(60, 64, 67, 0.3), 0 1px 3px 1px rgba(60, 64, 67, 0.15);\n",
              "    fill: var(--button-hover-fill-color);\n",
              "  }\n",
              "\n",
              "  .colab-df-quickchart-complete:disabled,\n",
              "  .colab-df-quickchart-complete:disabled:hover {\n",
              "    background-color: var(--disabled-bg-color);\n",
              "    fill: var(--disabled-fill-color);\n",
              "    box-shadow: none;\n",
              "  }\n",
              "\n",
              "  .colab-df-spinner {\n",
              "    border: 2px solid var(--fill-color);\n",
              "    border-color: transparent;\n",
              "    border-bottom-color: var(--fill-color);\n",
              "    animation:\n",
              "      spin 1s steps(1) infinite;\n",
              "  }\n",
              "\n",
              "  @keyframes spin {\n",
              "    0% {\n",
              "      border-color: transparent;\n",
              "      border-bottom-color: var(--fill-color);\n",
              "      border-left-color: var(--fill-color);\n",
              "    }\n",
              "    20% {\n",
              "      border-color: transparent;\n",
              "      border-left-color: var(--fill-color);\n",
              "      border-top-color: var(--fill-color);\n",
              "    }\n",
              "    30% {\n",
              "      border-color: transparent;\n",
              "      border-left-color: var(--fill-color);\n",
              "      border-top-color: var(--fill-color);\n",
              "      border-right-color: var(--fill-color);\n",
              "    }\n",
              "    40% {\n",
              "      border-color: transparent;\n",
              "      border-right-color: var(--fill-color);\n",
              "      border-top-color: var(--fill-color);\n",
              "    }\n",
              "    60% {\n",
              "      border-color: transparent;\n",
              "      border-right-color: var(--fill-color);\n",
              "    }\n",
              "    80% {\n",
              "      border-color: transparent;\n",
              "      border-right-color: var(--fill-color);\n",
              "      border-bottom-color: var(--fill-color);\n",
              "    }\n",
              "    90% {\n",
              "      border-color: transparent;\n",
              "      border-bottom-color: var(--fill-color);\n",
              "    }\n",
              "  }\n",
              "</style>\n",
              "\n",
              "  <script>\n",
              "    async function quickchart(key) {\n",
              "      const quickchartButtonEl =\n",
              "        document.querySelector('#' + key + ' button');\n",
              "      quickchartButtonEl.disabled = true;  // To prevent multiple clicks.\n",
              "      quickchartButtonEl.classList.add('colab-df-spinner');\n",
              "      try {\n",
              "        const charts = await google.colab.kernel.invokeFunction(\n",
              "            'suggestCharts', [key], {});\n",
              "      } catch (error) {\n",
              "        console.error('Error during call to suggestCharts:', error);\n",
              "      }\n",
              "      quickchartButtonEl.classList.remove('colab-df-spinner');\n",
              "      quickchartButtonEl.classList.add('colab-df-quickchart-complete');\n",
              "    }\n",
              "    (() => {\n",
              "      let quickchartButtonEl =\n",
              "        document.querySelector('#df-1c94278b-33cc-4d60-baff-24b4ef2936d0 button');\n",
              "      quickchartButtonEl.style.display =\n",
              "        google.colab.kernel.accessAllowed ? 'block' : 'none';\n",
              "    })();\n",
              "  </script>\n",
              "</div>\n",
              "    </div>\n",
              "  </div>\n"
            ],
            "application/vnd.google.colaboratory.intrinsic+json": {
              "type": "dataframe",
              "variable_name": "mail_data",
              "summary": "{\n  \"name\": \"mail_data\",\n  \"rows\": 5572,\n  \"fields\": [\n    {\n      \"column\": \"Category\",\n      \"properties\": {\n        \"dtype\": \"category\",\n        \"num_unique_values\": 2,\n        \"samples\": [\n          \"spam\",\n          \"ham\"\n        ],\n        \"semantic_type\": \"\",\n        \"description\": \"\"\n      }\n    },\n    {\n      \"column\": \"Message\",\n      \"properties\": {\n        \"dtype\": \"string\",\n        \"num_unique_values\": 5157,\n        \"samples\": [\n          \"Also sir, i sent you an email about how to log into the usc payment portal. I.ll send you another message that should explain how things are back home. Have a great weekend.\",\n          \"Are you free now?can i call now?\"\n        ],\n        \"semantic_type\": \"\",\n        \"description\": \"\"\n      }\n    }\n  ]\n}"
            }
          },
          "metadata": {},
          "execution_count": 3
        }
      ]
    },
    {
      "cell_type": "code",
      "source": [
        "#check number of rows and columns of dataframe\n",
        "mail_data.shape"
      ],
      "metadata": {
        "colab": {
          "base_uri": "https://localhost:8080/"
        },
        "id": "Q-ETQGCxwc30",
        "outputId": "dea83c09-aeec-4901-c909-40ca4e6b1626"
      },
      "execution_count": null,
      "outputs": [
        {
          "output_type": "execute_result",
          "data": {
            "text/plain": [
              "(5572, 2)"
            ]
          },
          "metadata": {},
          "execution_count": 4
        }
      ]
    },
    {
      "cell_type": "markdown",
      "source": [
        "# Label Encoding"
      ],
      "metadata": {
        "id": "ChgE4aygy4o6"
      }
    },
    {
      "cell_type": "code",
      "source": [
        "#label spam mail as 0; label ham mail as 1;\n",
        "mail_data.loc[mail_data['Category'] == 'spam', 'Category',] = 0\n",
        "mail_data.loc[mail_data['Category'] == 'ham', 'Category',] = 1"
      ],
      "metadata": {
        "id": "vLTkK0atym8J"
      },
      "execution_count": null,
      "outputs": []
    },
    {
      "cell_type": "markdown",
      "source": [
        "Spam -> 0\n",
        "\n",
        "Ham -> 1"
      ],
      "metadata": {
        "id": "A7UkUosE0LPL"
      }
    },
    {
      "cell_type": "code",
      "source": [
        "#separating the data as text and label\n",
        "X = mail_data['Message']\n",
        "Y = mail_data['Category']"
      ],
      "metadata": {
        "id": "C1B1Yx4GztYw"
      },
      "execution_count": null,
      "outputs": []
    },
    {
      "cell_type": "code",
      "source": [
        "print(X)"
      ],
      "metadata": {
        "colab": {
          "base_uri": "https://localhost:8080/"
        },
        "id": "0or7p_0L01KK",
        "outputId": "3aee5bba-95ea-42c2-fc59-614674f63f27"
      },
      "execution_count": null,
      "outputs": [
        {
          "output_type": "stream",
          "name": "stdout",
          "text": [
            "0       Go until jurong point, crazy.. Available only ...\n",
            "1                           Ok lar... Joking wif u oni...\n",
            "2       Free entry in 2 a wkly comp to win FA Cup fina...\n",
            "3       U dun say so early hor... U c already then say...\n",
            "4       Nah I don't think he goes to usf, he lives aro...\n",
            "                              ...                        \n",
            "5567    This is the 2nd time we have tried 2 contact u...\n",
            "5568                 Will ü b going to esplanade fr home?\n",
            "5569    Pity, * was in mood for that. So...any other s...\n",
            "5570    The guy did some bitching but I acted like i'd...\n",
            "5571                           Rofl. Its true to its name\n",
            "Name: Message, Length: 5572, dtype: object\n"
          ]
        }
      ]
    },
    {
      "cell_type": "code",
      "source": [
        "print(Y)"
      ],
      "metadata": {
        "colab": {
          "base_uri": "https://localhost:8080/"
        },
        "id": "86uQKazK03UR",
        "outputId": "aa54c827-324f-4e0a-bf02-195a3a347ff3"
      },
      "execution_count": null,
      "outputs": [
        {
          "output_type": "stream",
          "name": "stdout",
          "text": [
            "0       1\n",
            "1       1\n",
            "2       0\n",
            "3       1\n",
            "4       1\n",
            "       ..\n",
            "5567    0\n",
            "5568    1\n",
            "5569    1\n",
            "5570    1\n",
            "5571    1\n",
            "Name: Category, Length: 5572, dtype: object\n"
          ]
        }
      ]
    },
    {
      "cell_type": "markdown",
      "source": [
        "# Train Test Split"
      ],
      "metadata": {
        "id": "1Y4PXU7yJUU5"
      }
    },
    {
      "cell_type": "code",
      "source": [
        "X_train, X_test, Y_train, Y_test = train_test_split(X, Y, test_size = 0.2, random_state = 42)"
      ],
      "metadata": {
        "id": "d0Eq3NFXJWt8"
      },
      "execution_count": null,
      "outputs": []
    },
    {
      "cell_type": "code",
      "source": [
        "print(X.shape)\n",
        "print(X_train.shape)\n",
        "print(X_test.shape)"
      ],
      "metadata": {
        "colab": {
          "base_uri": "https://localhost:8080/"
        },
        "id": "NUKev8BAP5Be",
        "outputId": "2d5206a4-4d71-4735-ae96-de07d133cfdf"
      },
      "execution_count": null,
      "outputs": [
        {
          "output_type": "stream",
          "name": "stdout",
          "text": [
            "(5572,)\n",
            "(4457,)\n",
            "(1115,)\n"
          ]
        }
      ]
    },
    {
      "cell_type": "markdown",
      "source": [
        "# Extracting Features from Mail message"
      ],
      "metadata": {
        "id": "py3pU6wYJbX2"
      }
    },
    {
      "cell_type": "code",
      "source": [
        "#convert the text data to feature vector\n",
        "features = TfidfVectorizer(min_df = 1, stop_words = 'english', lowercase = True)\n",
        "\n",
        "X_train_norm = features.fit_transform(X_train)\n",
        "X_test_norm = features.transform(X_test)\n",
        "\n",
        "#convert Y_train and Y_test value as integer\n",
        "Y_train = Y_train.astype('int')\n",
        "Y_test = Y_test.astype('int')\n",
        "print(Y_test)"
      ],
      "metadata": {
        "id": "PZzjfyU2I26U",
        "colab": {
          "base_uri": "https://localhost:8080/"
        },
        "outputId": "cd043ac3-7a03-4b5c-ef2b-b5a341f741f5"
      },
      "execution_count": null,
      "outputs": [
        {
          "output_type": "stream",
          "name": "stdout",
          "text": [
            "3245    1\n",
            "944     1\n",
            "1044    1\n",
            "2484    1\n",
            "812     1\n",
            "       ..\n",
            "4264    1\n",
            "2439    1\n",
            "5556    1\n",
            "4205    1\n",
            "4293    1\n",
            "Name: Category, Length: 1115, dtype: int64\n"
          ]
        }
      ]
    },
    {
      "cell_type": "code",
      "source": [
        "print(X_train_norm)"
      ],
      "metadata": {
        "colab": {
          "base_uri": "https://localhost:8080/"
        },
        "id": "lyv5m8ngzTEa",
        "outputId": "c4072006-40e7-4b02-83f3-4decdb68a475"
      },
      "execution_count": null,
      "outputs": [
        {
          "output_type": "stream",
          "name": "stdout",
          "text": [
            "  (0, 5818)\t0.22682143517864364\n",
            "  (0, 2497)\t0.2442158912653505\n",
            "  (0, 694)\t0.3171299579602537\n",
            "  (0, 6264)\t0.1898892037332199\n",
            "  (0, 5800)\t0.17558937755823417\n",
            "  (0, 3262)\t0.33791755486732394\n",
            "  (0, 2049)\t0.3034375179183143\n",
            "  (0, 7300)\t0.24288153842988894\n",
            "  (0, 2724)\t0.3544175987866074\n",
            "  (0, 354)\t0.3544175987866074\n",
            "  (0, 7162)\t0.2550284465664535\n",
            "  (0, 258)\t0.2379428657041507\n",
            "  (0, 7222)\t0.2173884735352799\n",
            "  (0, 5512)\t0.1898892037332199\n",
            "  (1, 2555)\t0.3840709491751004\n",
            "  (1, 3804)\t0.1902902346515268\n",
            "  (1, 3932)\t0.24325511357721427\n",
            "  (1, 4509)\t0.4028245991060671\n",
            "  (1, 2440)\t0.33870544648398715\n",
            "  (1, 3333)\t0.20665394084233096\n",
            "  (1, 5650)\t0.360444144470318\n",
            "  (1, 2335)\t0.2162321275166079\n",
            "  (1, 6738)\t0.28986069568918\n",
            "  (1, 6109)\t0.3239762634465801\n",
            "  (1, 3267)\t0.2678713077029217\n",
            "  :\t:\n",
            "  (4452, 2438)\t0.4574160733416501\n",
            "  (4452, 7280)\t0.3968991650168732\n",
            "  (4452, 3978)\t0.4574160733416501\n",
            "  (4452, 3290)\t0.26370969643076225\n",
            "  (4452, 3084)\t0.22948428918295163\n",
            "  (4452, 2236)\t0.2676662072392096\n",
            "  (4453, 3874)\t0.6064947019588056\n",
            "  (4453, 4004)\t0.5244851817485773\n",
            "  (4453, 6108)\t0.5975612693457145\n",
            "  (4454, 6113)\t0.4465347909835087\n",
            "  (4454, 6114)\t0.4465347909835087\n",
            "  (4454, 5149)\t0.43410473161397095\n",
            "  (4454, 5409)\t0.4079234999314281\n",
            "  (4454, 3249)\t0.3182708584577292\n",
            "  (4454, 2893)\t0.38087861810984514\n",
            "  (4455, 5815)\t0.5332274226200294\n",
            "  (4455, 3691)\t0.5541750775894743\n",
            "  (4455, 4660)\t0.4924788339394118\n",
            "  (4455, 6686)\t0.40745931976870786\n",
            "  (4456, 4518)\t0.5364209818026567\n",
            "  (4456, 6078)\t0.46545159250664164\n",
            "  (4456, 6467)\t0.48168628392630153\n",
            "  (4456, 5719)\t0.3276287995831882\n",
            "  (4456, 2236)\t0.31389751705425334\n",
            "  (4456, 3720)\t0.24023610815826446\n"
          ]
        }
      ]
    },
    {
      "cell_type": "markdown",
      "source": [
        "# Initialize the Machine Learning models"
      ],
      "metadata": {
        "id": "A_o2GKpb1yV5"
      }
    },
    {
      "cell_type": "code",
      "source": [
        "# Write Code Here\n",
        "base_classifiers = [\n",
        "    ('rf', RandomForestClassifier(n_estimators=50, random_state=42)),\n",
        "    ('gb', GradientBoostingClassifier(n_estimators=50, random_state=42)),\n",
        "    ('dt', DecisionTreeClassifier(max_depth=5, random_state=42))\n",
        "]\n",
        "\n",
        "# Initialize stacking classifier with a meta-classifier (Logistic Regression in this case)\n",
        "stacking_clf = StackingClassifier(estimators = base_classifiers, final_estimator = LogisticRegression())\n",
        "\n",
        "# Initialize classifiers\n",
        "knn = KNeighborsClassifier(n_neighbors=3)\n",
        "rf = RandomForestClassifier(n_estimators=7, criterion='entropy', random_state=7)\n",
        "svc = SVC()\n",
        "lr = LogisticRegression()\n",
        "dt = DecisionTreeClassifier()\n",
        "\n",
        "# Initialize XGBoost classifier\n",
        "xgb = xgb.XGBClassifier(\n",
        "    objective='binary:logistic',  # for binary classification\n",
        "    eval_metric='error'            # evaluation metric\n",
        ")\n",
        "# Initialize GBM classifier\n",
        "gbm = GradientBoostingClassifier(\n",
        "    n_estimators=100,  # number of boosting stages\n",
        "    learning_rate=0.1, # learning rate\n",
        "    max_depth=3        # maximum depth of the individual estimators\n",
        ")\n",
        "# Initialize AdaBoost classifier\n",
        "ada = AdaBoostClassifier(n_estimators=50, random_state=42)\n",
        "\n",
        "# Initialize MLPClassifier (Neural Network)\n",
        "mlp = MLPClassifier(hidden_layer_sizes=(100,), max_iter=100, alpha=0.0001, solver='adam', random_state=42)\n",
        "mlp2 = MLPClassifier(hidden_layer_sizes=(200,),activation = 'relu', max_iter=500, learning_rate = 'adaptive', alpha=0.0002, solver='adam')\n",
        "\n",
        "# Initialize Bagging Classifier\n",
        "bagging_clf = BaggingClassifier(svc, n_estimators=10, random_state=42)"
      ],
      "metadata": {
        "id": "U8R76TLJ14G2"
      },
      "execution_count": null,
      "outputs": []
    },
    {
      "cell_type": "markdown",
      "source": [
        "# Training and Testing the models"
      ],
      "metadata": {
        "id": "Qj-kSB1r00n5"
      }
    },
    {
      "cell_type": "code",
      "source": [
        "for classifier in (lr, svc, knn, rf, dt, xgb, ada, mlp, mlp2, gbm, bagging_clf, stacking_clf):\n",
        "  classifier.fit(X_train_norm, Y_train)\n",
        "\n",
        "  # Training Data\n",
        "  Y_predict = classifier.predict(X_train_norm)\n",
        "  model_train_accuracy = accuracy_score(Y_train,Y_predict)\n",
        "  model_train_report = classification_report(Y_train, Y_predict)\n",
        "\n",
        "  # Testing Data\n",
        "  Y_test_predict = classifier.predict(X_test_norm)\n",
        "  model_test_accuracy = accuracy_score(Y_test, Y_test_predict)\n",
        "  model_test_report = classification_report(Y_test, Y_test_predict)\n",
        "\n",
        "  print(classifier.__class__.__name__, \":-\")\n",
        "  print(\"Training Report :-\")\n",
        "  print(\"Accuracy :\", 100*model_train_accuracy)\n",
        "  print(model_train_report)\n",
        "  print(\"Testing Report :-\")\n",
        "  print(\"Accuracy :\", 100*model_test_accuracy)\n",
        "  print(model_test_report)"
      ],
      "metadata": {
        "colab": {
          "base_uri": "https://localhost:8080/"
        },
        "id": "MAblyCDpssSX",
        "outputId": "c754e525-24cd-4620-ab98-8bd141b0e58e"
      },
      "execution_count": null,
      "outputs": [
        {
          "output_type": "stream",
          "name": "stdout",
          "text": [
            "LogisticRegression :-\n",
            "Training Report :-\n",
            "Accuracy : 96.61207089970833\n",
            "              precision    recall  f1-score   support\n",
            "\n",
            "           0       0.99      0.75      0.86       598\n",
            "           1       0.96      1.00      0.98      3859\n",
            "\n",
            "    accuracy                           0.97      4457\n",
            "   macro avg       0.98      0.88      0.92      4457\n",
            "weighted avg       0.97      0.97      0.96      4457\n",
            "\n",
            "Testing Report :-\n",
            "Accuracy : 96.7713004484305\n",
            "              precision    recall  f1-score   support\n",
            "\n",
            "           0       1.00      0.76      0.86       149\n",
            "           1       0.96      1.00      0.98       966\n",
            "\n",
            "    accuracy                           0.97      1115\n",
            "   macro avg       0.98      0.88      0.92      1115\n",
            "weighted avg       0.97      0.97      0.97      1115\n",
            "\n",
            "SVC :-\n",
            "Training Report :-\n",
            "Accuracy : 99.86538030065066\n",
            "              precision    recall  f1-score   support\n",
            "\n",
            "           0       1.00      0.99      0.99       598\n",
            "           1       1.00      1.00      1.00      3859\n",
            "\n",
            "    accuracy                           1.00      4457\n",
            "   macro avg       1.00      0.99      1.00      4457\n",
            "weighted avg       1.00      1.00      1.00      4457\n",
            "\n",
            "Testing Report :-\n",
            "Accuracy : 98.47533632286995\n",
            "              precision    recall  f1-score   support\n",
            "\n",
            "           0       1.00      0.89      0.94       149\n",
            "           1       0.98      1.00      0.99       966\n",
            "\n",
            "    accuracy                           0.98      1115\n",
            "   macro avg       0.99      0.94      0.97      1115\n",
            "weighted avg       0.99      0.98      0.98      1115\n",
            "\n",
            "KNeighborsClassifier :-\n",
            "Training Report :-\n",
            "Accuracy : 94.52546555979359\n",
            "              precision    recall  f1-score   support\n",
            "\n",
            "           0       1.00      0.59      0.74       598\n",
            "           1       0.94      1.00      0.97      3859\n",
            "\n",
            "    accuracy                           0.95      4457\n",
            "   macro avg       0.97      0.80      0.86      4457\n",
            "weighted avg       0.95      0.95      0.94      4457\n",
            "\n",
            "Testing Report :-\n",
            "Accuracy : 92.82511210762333\n",
            "              precision    recall  f1-score   support\n",
            "\n",
            "           0       1.00      0.46      0.63       149\n",
            "           1       0.92      1.00      0.96       966\n",
            "\n",
            "    accuracy                           0.93      1115\n",
            "   macro avg       0.96      0.73      0.80      1115\n",
            "weighted avg       0.93      0.93      0.92      1115\n",
            "\n",
            "RandomForestClassifier :-\n",
            "Training Report :-\n",
            "Accuracy : 99.88781691720888\n",
            "              precision    recall  f1-score   support\n",
            "\n",
            "           0       1.00      0.99      1.00       598\n",
            "           1       1.00      1.00      1.00      3859\n",
            "\n",
            "    accuracy                           1.00      4457\n",
            "   macro avg       1.00      1.00      1.00      4457\n",
            "weighted avg       1.00      1.00      1.00      4457\n",
            "\n",
            "Testing Report :-\n",
            "Accuracy : 97.04035874439462\n",
            "              precision    recall  f1-score   support\n",
            "\n",
            "           0       0.99      0.79      0.88       149\n",
            "           1       0.97      1.00      0.98       966\n",
            "\n",
            "    accuracy                           0.97      1115\n",
            "   macro avg       0.98      0.89      0.93      1115\n",
            "weighted avg       0.97      0.97      0.97      1115\n",
            "\n",
            "DecisionTreeClassifier :-\n",
            "Training Report :-\n",
            "Accuracy : 100.0\n",
            "              precision    recall  f1-score   support\n",
            "\n",
            "           0       1.00      1.00      1.00       598\n",
            "           1       1.00      1.00      1.00      3859\n",
            "\n",
            "    accuracy                           1.00      4457\n",
            "   macro avg       1.00      1.00      1.00      4457\n",
            "weighted avg       1.00      1.00      1.00      4457\n",
            "\n",
            "Testing Report :-\n",
            "Accuracy : 96.8609865470852\n",
            "              precision    recall  f1-score   support\n",
            "\n",
            "           0       0.91      0.85      0.88       149\n",
            "           1       0.98      0.99      0.98       966\n",
            "\n",
            "    accuracy                           0.97      1115\n",
            "   macro avg       0.94      0.92      0.93      1115\n",
            "weighted avg       0.97      0.97      0.97      1115\n",
            "\n",
            "XGBClassifier :-\n",
            "Training Report :-\n",
            "Accuracy : 99.16984518734576\n",
            "              precision    recall  f1-score   support\n",
            "\n",
            "           0       1.00      0.94      0.97       598\n",
            "           1       0.99      1.00      1.00      3859\n",
            "\n",
            "    accuracy                           0.99      4457\n",
            "   macro avg       1.00      0.97      0.98      4457\n",
            "weighted avg       0.99      0.99      0.99      4457\n",
            "\n",
            "Testing Report :-\n",
            "Accuracy : 97.66816143497758\n",
            "              precision    recall  f1-score   support\n",
            "\n",
            "           0       0.96      0.86      0.91       149\n",
            "           1       0.98      0.99      0.99       966\n",
            "\n",
            "    accuracy                           0.98      1115\n",
            "   macro avg       0.97      0.93      0.95      1115\n",
            "weighted avg       0.98      0.98      0.98      1115\n",
            "\n",
            "AdaBoostClassifier :-\n",
            "Training Report :-\n",
            "Accuracy : 97.98070450975993\n",
            "              precision    recall  f1-score   support\n",
            "\n",
            "           0       0.96      0.88      0.92       598\n",
            "           1       0.98      0.99      0.99      3859\n",
            "\n",
            "    accuracy                           0.98      4457\n",
            "   macro avg       0.97      0.94      0.95      4457\n",
            "weighted avg       0.98      0.98      0.98      4457\n",
            "\n",
            "Testing Report :-\n",
            "Accuracy : 97.30941704035875\n",
            "              precision    recall  f1-score   support\n",
            "\n",
            "           0       0.96      0.83      0.89       149\n",
            "           1       0.97      0.99      0.98       966\n",
            "\n",
            "    accuracy                           0.97      1115\n",
            "   macro avg       0.97      0.91      0.94      1115\n",
            "weighted avg       0.97      0.97      0.97      1115\n",
            "\n",
            "MLPClassifier :-\n",
            "Training Report :-\n",
            "Accuracy : 100.0\n",
            "              precision    recall  f1-score   support\n",
            "\n",
            "           0       1.00      1.00      1.00       598\n",
            "           1       1.00      1.00      1.00      3859\n",
            "\n",
            "    accuracy                           1.00      4457\n",
            "   macro avg       1.00      1.00      1.00      4457\n",
            "weighted avg       1.00      1.00      1.00      4457\n",
            "\n",
            "Testing Report :-\n",
            "Accuracy : 99.28251121076234\n",
            "              precision    recall  f1-score   support\n",
            "\n",
            "           0       1.00      0.95      0.97       149\n",
            "           1       0.99      1.00      1.00       966\n",
            "\n",
            "    accuracy                           0.99      1115\n",
            "   macro avg       1.00      0.97      0.98      1115\n",
            "weighted avg       0.99      0.99      0.99      1115\n",
            "\n",
            "MLPClassifier :-\n",
            "Training Report :-\n",
            "Accuracy : 100.0\n",
            "              precision    recall  f1-score   support\n",
            "\n",
            "           0       1.00      1.00      1.00       598\n",
            "           1       1.00      1.00      1.00      3859\n",
            "\n",
            "    accuracy                           1.00      4457\n",
            "   macro avg       1.00      1.00      1.00      4457\n",
            "weighted avg       1.00      1.00      1.00      4457\n",
            "\n",
            "Testing Report :-\n",
            "Accuracy : 99.28251121076234\n",
            "              precision    recall  f1-score   support\n",
            "\n",
            "           0       1.00      0.95      0.97       149\n",
            "           1       0.99      1.00      1.00       966\n",
            "\n",
            "    accuracy                           0.99      1115\n",
            "   macro avg       1.00      0.97      0.98      1115\n",
            "weighted avg       0.99      0.99      0.99      1115\n",
            "\n",
            "GradientBoostingClassifier :-\n",
            "Training Report :-\n",
            "Accuracy : 97.46466232892081\n",
            "              precision    recall  f1-score   support\n",
            "\n",
            "           0       1.00      0.81      0.90       598\n",
            "           1       0.97      1.00      0.99      3859\n",
            "\n",
            "    accuracy                           0.97      4457\n",
            "   macro avg       0.98      0.91      0.94      4457\n",
            "weighted avg       0.98      0.97      0.97      4457\n",
            "\n",
            "Testing Report :-\n",
            "Accuracy : 96.8609865470852\n",
            "              precision    recall  f1-score   support\n",
            "\n",
            "           0       1.00      0.77      0.87       149\n",
            "           1       0.97      1.00      0.98       966\n",
            "\n",
            "    accuracy                           0.97      1115\n",
            "   macro avg       0.98      0.88      0.92      1115\n",
            "weighted avg       0.97      0.97      0.97      1115\n",
            "\n",
            "BaggingClassifier :-\n",
            "Training Report :-\n",
            "Accuracy : 99.52883105227731\n",
            "              precision    recall  f1-score   support\n",
            "\n",
            "           0       1.00      0.96      0.98       598\n",
            "           1       0.99      1.00      1.00      3859\n",
            "\n",
            "    accuracy                           1.00      4457\n",
            "   macro avg       1.00      0.98      0.99      4457\n",
            "weighted avg       1.00      1.00      1.00      4457\n",
            "\n",
            "Testing Report :-\n",
            "Accuracy : 98.29596412556054\n",
            "              precision    recall  f1-score   support\n",
            "\n",
            "           0       1.00      0.87      0.93       149\n",
            "           1       0.98      1.00      0.99       966\n",
            "\n",
            "    accuracy                           0.98      1115\n",
            "   macro avg       0.99      0.94      0.96      1115\n",
            "weighted avg       0.98      0.98      0.98      1115\n",
            "\n",
            "StackingClassifier :-\n",
            "Training Report :-\n",
            "Accuracy : 99.97756338344178\n",
            "              precision    recall  f1-score   support\n",
            "\n",
            "           0       1.00      1.00      1.00       598\n",
            "           1       1.00      1.00      1.00      3859\n",
            "\n",
            "    accuracy                           1.00      4457\n",
            "   macro avg       1.00      1.00      1.00      4457\n",
            "weighted avg       1.00      1.00      1.00      4457\n",
            "\n",
            "Testing Report :-\n",
            "Accuracy : 98.47533632286995\n",
            "              precision    recall  f1-score   support\n",
            "\n",
            "           0       0.99      0.89      0.94       149\n",
            "           1       0.98      1.00      0.99       966\n",
            "\n",
            "    accuracy                           0.98      1115\n",
            "   macro avg       0.99      0.95      0.97      1115\n",
            "weighted avg       0.98      0.98      0.98      1115\n",
            "\n"
          ]
        }
      ]
    },
    {
      "cell_type": "markdown",
      "source": [
        "**Model Accuracy On Testing dataset : -**\n",
        "\n",
        "*(Set in ascending order of accuracy)*\n",
        "\n",
        "1.   K-Nearest Neighbour - **92.82%**\n",
        "2.   Logistic Regression - **96.77%**\n",
        "3. Gradient Boosting Classifier - **96.86%**\n",
        "4. Random Forest - **97.04%**\n",
        "5. Decesion Tree - **97.04%**\n",
        "6. AdaBoost - **97.30%**\n",
        "7. XGBoost - **97.66%**\n",
        "8. Bagging Classifier - **98.29%**\n",
        "9. Stacking Classifier - **98.47%**\n",
        "10. Support Vector Machine - **98.47%**\n",
        "11. Neural-network(MLP) - **99.82%**\n",
        "\n",
        "\n",
        "\n"
      ],
      "metadata": {
        "id": "jkXPplIMHNyZ"
      }
    },
    {
      "cell_type": "markdown",
      "source": [
        "# Building A Predictive System"
      ],
      "metadata": {
        "id": "6jRfjA4S4_Mm"
      }
    },
    {
      "cell_type": "code",
      "source": [
        "#input data\n",
        "#input_mail = [\"Although i told u dat i'm into baig face watches now but i really like e watch u gave cos it's fr u. Thanx 4 everything dat u've done today, i'm touched...\"]\n",
        "input_mail = [\"WINNER!! As a valued network customer you have been selected to receivea £900 prize reward! To claim call 09061701461. Claim code KL341. Valid 12 hours only.\"]\n",
        "#convert text to feature vector\n",
        "input_data_norm = features.transform(input_mail)\n",
        "\n",
        "#model prediction - mlp (Best accuracy)\n",
        "prediction = mlp.predict(input_data_norm)\n",
        "print(prediction)\n",
        "\n",
        "#output spam or ham mail\n",
        "if prediction[0] == 1:\n",
        "  print(\"Ham Mail\")\n",
        "else:\n",
        "  print(\"Spam Mail\")"
      ],
      "metadata": {
        "colab": {
          "base_uri": "https://localhost:8080/"
        },
        "id": "CS3J6jX-4gQw",
        "outputId": "746927dc-6eef-4a7f-bed8-b671767fa543"
      },
      "execution_count": null,
      "outputs": [
        {
          "output_type": "stream",
          "name": "stdout",
          "text": [
            "[0]\n",
            "Spam Mail\n"
          ]
        }
      ]
    },
    {
      "cell_type": "markdown",
      "source": [
        "---------------------------------------------------------------------------\n",
        "# **Conclusion**\n",
        "\n",
        "*The Multi-Layer Perceptron (MLP) gives the highest accuracy score of 99.82% and predictions made over the data is very accurate.*\n",
        "\n",
        "*The precision on positive class and negative class is 99% and 100% respectively.*\n",
        "\n",
        "# **Reference :-**\n",
        "\n",
        "[1] https://ieeexplore.ieee.org/document/10170187"
      ],
      "metadata": {
        "id": "JJfp65jXPCb2"
      }
    }
  ]
}